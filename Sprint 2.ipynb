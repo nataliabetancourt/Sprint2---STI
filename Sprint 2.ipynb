{
 "cells": [
  {
   "cell_type": "code",
   "execution_count": 39,
   "id": "46e8717c",
   "metadata": {},
   "outputs": [
    {
     "name": "stdout",
     "output_type": "stream",
     "text": [
      "  Nombre  Car 1  Car 2  Car 3  Car 4  Car 5\n",
      "0    Ana   0.45   0.71   0.23   0.60   0.58\n",
      "1   Juan   0.99   0.20   0.11   0.41   0.32\n",
      "2  Oscar   0.77   0.63   0.29   0.95   0.21\n",
      "3  Maria   0.32   0.45   0.19   0.66   0.76\n",
      " \n"
     ]
    }
   ],
   "source": [
    "#Base of the sprint\n",
    "\n",
    "# Import needed to work with Excel\n",
    "import pandas as pd\n",
    "import numpy as np\n",
    "import math\n",
    "\n",
    "# Import module\n",
    "from tkinter import *\n",
    "\n",
    "# Create object for window and size\n",
    "root = Tk()\n",
    "root.geometry(\"400x300\")\n",
    "\n",
    "# Load csv - database\n",
    "data = pd.read_csv('sprint_2.csv')\n",
    "print(data)\n",
    "print(\" \")"
   ]
  },
  {
   "cell_type": "code",
   "execution_count": 40,
   "id": "2bc7f5a6",
   "metadata": {},
   "outputs": [],
   "source": [
    "# Dropdown menu options\n",
    "options = [\n",
    "    \"Ana\",\n",
    "    \"Juan\",\n",
    "    \"Oscar\",\n",
    "    \"Maria\",\n",
    "]\n",
    "    \n",
    "# datatype of menu text\n",
    "clicked1 = StringVar()\n",
    "clicked2 = StringVar()\n",
    "\n",
    "# initial menu text\n",
    "clicked1.set( \"Ana\" )\n",
    "clicked2.set( \"Ana\" )\n",
    "        \n",
    "# Create Dropdown menu\n",
    "drop1 = OptionMenu( root , clicked1 , *options )\n",
    "drop2 = OptionMenu( root , clicked2 , *options )\n",
    "drop1.pack()\n",
    "drop2.pack()\n",
    "\n",
    "# Create button, it will change label text\n",
    "button = Button( root , text = \"Ejecutar\" , command = calculate ).pack()\n",
    "\n",
    "# Create Label\n",
    "label = Label(root, text = \"El valor de coseno es: \")\n",
    "label.pack()\n",
    "coseno = Label( root , text = \" \" )\n",
    "coseno.pack()\n",
    "\n",
    "root.mainloop()\n"
   ]
  },
  {
   "cell_type": "code",
   "execution_count": 38,
   "id": "98a3b60a",
   "metadata": {},
   "outputs": [
    {
     "ename": "RuntimeError",
     "evalue": "Too early to create variable: no default root window",
     "output_type": "error",
     "traceback": [
      "\u001b[0;31m---------------------------------------------------------------------------\u001b[0m",
      "\u001b[0;31mRuntimeError\u001b[0m                              Traceback (most recent call last)",
      "Input \u001b[0;32mIn [38]\u001b[0m, in \u001b[0;36m<cell line: 10>\u001b[0;34m()\u001b[0m\n\u001b[1;32m      2\u001b[0m options \u001b[38;5;241m=\u001b[39m [\n\u001b[1;32m      3\u001b[0m     \u001b[38;5;124m\"\u001b[39m\u001b[38;5;124mAna\u001b[39m\u001b[38;5;124m\"\u001b[39m,\n\u001b[1;32m      4\u001b[0m     \u001b[38;5;124m\"\u001b[39m\u001b[38;5;124mJuan\u001b[39m\u001b[38;5;124m\"\u001b[39m,\n\u001b[1;32m      5\u001b[0m     \u001b[38;5;124m\"\u001b[39m\u001b[38;5;124mOscar\u001b[39m\u001b[38;5;124m\"\u001b[39m,\n\u001b[1;32m      6\u001b[0m     \u001b[38;5;124m\"\u001b[39m\u001b[38;5;124mMaria\u001b[39m\u001b[38;5;124m\"\u001b[39m,\n\u001b[1;32m      7\u001b[0m ]\n\u001b[1;32m      9\u001b[0m \u001b[38;5;66;03m# datatype of menu text\u001b[39;00m\n\u001b[0;32m---> 10\u001b[0m clicked1 \u001b[38;5;241m=\u001b[39m \u001b[43mStringVar\u001b[49m\u001b[43m(\u001b[49m\u001b[43m)\u001b[49m\n\u001b[1;32m     11\u001b[0m clicked2 \u001b[38;5;241m=\u001b[39m StringVar()\n\u001b[1;32m     13\u001b[0m \u001b[38;5;66;03m# initial menu text\u001b[39;00m\n",
      "File \u001b[0;32m/opt/anaconda3/lib/python3.9/tkinter/__init__.py:515\u001b[0m, in \u001b[0;36mStringVar.__init__\u001b[0;34m(self, master, value, name)\u001b[0m\n\u001b[1;32m    505\u001b[0m \u001b[38;5;28;01mdef\u001b[39;00m \u001b[38;5;21m__init__\u001b[39m(\u001b[38;5;28mself\u001b[39m, master\u001b[38;5;241m=\u001b[39m\u001b[38;5;28;01mNone\u001b[39;00m, value\u001b[38;5;241m=\u001b[39m\u001b[38;5;28;01mNone\u001b[39;00m, name\u001b[38;5;241m=\u001b[39m\u001b[38;5;28;01mNone\u001b[39;00m):\n\u001b[1;32m    506\u001b[0m     \u001b[38;5;124;03m\"\"\"Construct a string variable.\u001b[39;00m\n\u001b[1;32m    507\u001b[0m \n\u001b[1;32m    508\u001b[0m \u001b[38;5;124;03m    MASTER can be given as master widget.\u001b[39;00m\n\u001b[0;32m   (...)\u001b[0m\n\u001b[1;32m    513\u001b[0m \u001b[38;5;124;03m    then the existing value is retained.\u001b[39;00m\n\u001b[1;32m    514\u001b[0m \u001b[38;5;124;03m    \"\"\"\u001b[39;00m\n\u001b[0;32m--> 515\u001b[0m     \u001b[43mVariable\u001b[49m\u001b[38;5;241;43m.\u001b[39;49m\u001b[38;5;21;43m__init__\u001b[39;49m\u001b[43m(\u001b[49m\u001b[38;5;28;43mself\u001b[39;49m\u001b[43m,\u001b[49m\u001b[43m \u001b[49m\u001b[43mmaster\u001b[49m\u001b[43m,\u001b[49m\u001b[43m \u001b[49m\u001b[43mvalue\u001b[49m\u001b[43m,\u001b[49m\u001b[43m \u001b[49m\u001b[43mname\u001b[49m\u001b[43m)\u001b[49m\n",
      "File \u001b[0;32m/opt/anaconda3/lib/python3.9/tkinter/__init__.py:346\u001b[0m, in \u001b[0;36mVariable.__init__\u001b[0;34m(self, master, value, name)\u001b[0m\n\u001b[1;32m    344\u001b[0m \u001b[38;5;28;01mglobal\u001b[39;00m _varnum\n\u001b[1;32m    345\u001b[0m \u001b[38;5;28;01mif\u001b[39;00m \u001b[38;5;129;01mnot\u001b[39;00m master:\n\u001b[0;32m--> 346\u001b[0m     master \u001b[38;5;241m=\u001b[39m \u001b[43m_get_default_root\u001b[49m\u001b[43m(\u001b[49m\u001b[38;5;124;43m'\u001b[39;49m\u001b[38;5;124;43mcreate variable\u001b[39;49m\u001b[38;5;124;43m'\u001b[39;49m\u001b[43m)\u001b[49m\n\u001b[1;32m    347\u001b[0m \u001b[38;5;28mself\u001b[39m\u001b[38;5;241m.\u001b[39m_root \u001b[38;5;241m=\u001b[39m master\u001b[38;5;241m.\u001b[39m_root()\n\u001b[1;32m    348\u001b[0m \u001b[38;5;28mself\u001b[39m\u001b[38;5;241m.\u001b[39m_tk \u001b[38;5;241m=\u001b[39m master\u001b[38;5;241m.\u001b[39mtk\n",
      "File \u001b[0;32m/opt/anaconda3/lib/python3.9/tkinter/__init__.py:297\u001b[0m, in \u001b[0;36m_get_default_root\u001b[0;34m(what)\u001b[0m\n\u001b[1;32m    295\u001b[0m \u001b[38;5;28;01mif\u001b[39;00m \u001b[38;5;129;01mnot\u001b[39;00m _default_root:\n\u001b[1;32m    296\u001b[0m     \u001b[38;5;28;01mif\u001b[39;00m what:\n\u001b[0;32m--> 297\u001b[0m         \u001b[38;5;28;01mraise\u001b[39;00m \u001b[38;5;167;01mRuntimeError\u001b[39;00m(\u001b[38;5;124mf\u001b[39m\u001b[38;5;124m\"\u001b[39m\u001b[38;5;124mToo early to \u001b[39m\u001b[38;5;132;01m{\u001b[39;00mwhat\u001b[38;5;132;01m}\u001b[39;00m\u001b[38;5;124m: no default root window\u001b[39m\u001b[38;5;124m\"\u001b[39m)\n\u001b[1;32m    298\u001b[0m     root \u001b[38;5;241m=\u001b[39m Tk()\n\u001b[1;32m    299\u001b[0m     \u001b[38;5;28;01massert\u001b[39;00m _default_root \u001b[38;5;129;01mis\u001b[39;00m root\n",
      "\u001b[0;31mRuntimeError\u001b[0m: Too early to create variable: no default root window"
     ]
    }
   ],
   "source": [
    "#Methods\n",
    "\n",
    "def calculate():\n",
    "    if(clicked1.get() == \"Ana\"):\n",
    "        first = data.iloc[0]\n",
    "    elif(clicked1.get() == \"Juan\"):\n",
    "        first = data.iloc[1]\n",
    "    elif(clicked1.get() == \"Oscar\"):\n",
    "        first = data.iloc[2]\n",
    "    elif(clicked1.get() == \"Maria\"):\n",
    "        first = data.iloc[3]\n",
    "        \n",
    "    if(clicked2.get() == \"Ana\"):\n",
    "        second = data.iloc[0]\n",
    "    elif(clicked2.get() == \"Juan\"):\n",
    "        second = data.iloc[1]\n",
    "    elif(clicked2.get() == \"Oscar\"):\n",
    "        second = data.iloc[2]\n",
    "    elif(clicked2.get() == \"Maria\"):\n",
    "        second = data.iloc[3]\n",
    "        \n",
    "    # Calculate similiarity\n",
    "    AB = (first.iloc[1] * second.iloc[1]) + (first.iloc[2] * second.iloc[2]) + (first.iloc[3] * second.iloc[3]) + (first.iloc[4] * second.iloc[4]) + (first.iloc[5] * second.iloc[5])\n",
    "    \n",
    "    vA = math.sqrt((first.iloc[1]**2) + (first.iloc[2]**2) + (first.iloc[3]**2) + (first.iloc[4]**2) + (first.iloc[5]**2))\n",
    "    vB = math.sqrt((second.iloc[1]**2) + (second.iloc[2]**2) + (second.iloc[3]**2) + (second.iloc[4]**2) + (second.iloc[5]**2))\n",
    "    \n",
    "    cos = AB/(vA*vB)\n",
    "    \n",
    "    coseno.config( text = cos )\n",
    "    "
   ]
  }
 ],
 "metadata": {
  "kernelspec": {
   "display_name": "Python 3 (ipykernel)",
   "language": "python",
   "name": "python3"
  },
  "language_info": {
   "codemirror_mode": {
    "name": "ipython",
    "version": 3
   },
   "file_extension": ".py",
   "mimetype": "text/x-python",
   "name": "python",
   "nbconvert_exporter": "python",
   "pygments_lexer": "ipython3",
   "version": "3.9.12"
  }
 },
 "nbformat": 4,
 "nbformat_minor": 5
}
