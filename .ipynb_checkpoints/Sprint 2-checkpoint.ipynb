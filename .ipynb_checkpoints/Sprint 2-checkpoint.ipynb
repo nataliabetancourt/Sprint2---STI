{
 "cells": [
  {
   "cell_type": "code",
   "execution_count": null,
   "id": "46e8717c",
   "metadata": {},
   "outputs": [],
   "source": [
    "#Base of the sprint\n",
    "\n",
    "# Import needed to work with Excel\n",
    "import pandas as pd\n",
    "import numpy as np\n",
    "\n",
    "# Import module\n",
    "from tkinter import *\n",
    "\n",
    "# Create object for window and size\n",
    "root = Tk()\n",
    "root.geometry(\"400x300\")\n",
    "\n",
    "# Load csv - database\n",
    "data = pd.read_csv('sprint_2.csv')\n",
    "print(data)\n",
    "print(\" \")\n",
    "\n",
    "# Split rows\n",
    "rowAna = data.iloc[0]\n",
    "rowJuan = data.iloc[1]\n",
    "rowOscar = data.iloc[2]\n",
    "rowMaria = data.iloc[3]\n",
    "\n",
    "print(rowJuan)\n",
    "print(rowJuan.iloc[1])"
   ]
  },
  {
   "cell_type": "code",
   "execution_count": null,
   "id": "2bc7f5a6",
   "metadata": {},
   "outputs": [],
   "source": [
    "#Methods\n",
    "def calculate():\n",
    "    AB = (firstPerson.iloc[1] * secondPerson.iloc[1]) + (firstPerson.iloc[2] * secondPerson.iloc[2]) + (firstPerson.iloc[3] * secondPerson.iloc[3]) + (firstPerson.iloc[4] * secondPerson.iloc[4]) + (firstPerson.iloc[5] * secondPerson.iloc[5])\n",
    "    print(AB)\n",
    "    \n",
    "def check():\n",
    "    if(clicked1.get() == \"Ana\"):\n",
    "        firstPerson = data.iloc[0]\n",
    "    elif(clicked1.get() == \"Juan\"):\n",
    "        firstPerson = data.iloc[1]\n",
    "    elif(clicked1.get() == \"Oscar\"):\n",
    "        firstPerson = data.iloc[2]\n",
    "    elif(clicked1.get() == \"Maria\"):\n",
    "        firstPerson = data.iloc[3]\n",
    "        \n",
    "    if(clicked2.get() == \"Ana\"):\n",
    "        secondPerson = data.iloc[0]\n",
    "    elif(clicked2.get() == \"Juan\"):\n",
    "        secondPerson = data.iloc[1]\n",
    "    elif(clicked2.get() == \"Oscar\"):\n",
    "        secondPerson = data.iloc[2]\n",
    "    elif(clicked2.get() == \"Maria\"):\n",
    "        secondPerson = data.iloc[3]\n",
    "        \n",
    "    caculate()\n",
    "        \n"
   ]
  },
  {
   "cell_type": "code",
   "execution_count": null,
   "id": "98a3b60a",
   "metadata": {},
   "outputs": [],
   "source": [
    "# Dropdown menu options\n",
    "options = [\n",
    "    \"Ana\",\n",
    "    \"Juan\",\n",
    "    \"Oscar\",\n",
    "    \"Maria\",\n",
    "]\n",
    "    \n",
    "# datatype of menu text\n",
    "clicked1 = StringVar()\n",
    "clicked2 = StringVar()\n",
    "\n",
    "# initial menu text\n",
    "clicked1.set( \"Ana\" )\n",
    "clicked2.set( \"Ana\" )\n",
    "        \n",
    "# Create Dropdown menu\n",
    "drop1 = OptionMenu( root , clicked1 , *options )\n",
    "drop2 = OptionMenu( root , clicked2 , *options )\n",
    "drop1.pack()\n",
    "drop2.pack()\n",
    "\n",
    "# Create button, it will change label text\n",
    "button = Button( root , text = \"Ejecutar\" , command = check ).pack()\n",
    "\n",
    "root.mainloop()"
   ]
  },
  {
   "cell_type": "code",
   "execution_count": null,
   "id": "85a460c5",
   "metadata": {},
   "outputs": [],
   "source": []
  }
 ],
 "metadata": {
  "kernelspec": {
   "display_name": "Python 3 (ipykernel)",
   "language": "python",
   "name": "python3"
  },
  "language_info": {
   "codemirror_mode": {
    "name": "ipython",
    "version": 3
   },
   "file_extension": ".py",
   "mimetype": "text/x-python",
   "name": "python",
   "nbconvert_exporter": "python",
   "pygments_lexer": "ipython3",
   "version": "3.9.12"
  }
 },
 "nbformat": 4,
 "nbformat_minor": 5
}
